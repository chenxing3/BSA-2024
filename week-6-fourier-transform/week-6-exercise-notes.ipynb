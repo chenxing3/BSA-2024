{
 "cells": [
  {
   "cell_type": "markdown",
   "metadata": {},
   "source": [
    "# Exercise 6: Fourier Analysis & the Fourier Transform\n",
    "\n",
    "- Background & Motivation: Joseph Fourier & the Theory of Heat\n",
    "- Pythonic Examples: Using Fourier Analysis in Audio Processing, EEG Analysis, etc."
   ]
  },
  {
   "cell_type": "markdown",
   "metadata": {},
   "source": [
    "## Background & Motivation: Joseph Fourier & the Theory of Heat\n",
    "\n",
    "Joseph Fourier, born Jean-Baptiste Joseph Fourier on March 21, 1768, in Auxerre, France, was one of the most brilliant minds of the 18th and 19th centuries. His journey from humble beginnings to groundbreaking contributions in mathematics and physics is a testament to the power of perseverance, intellectual curiosity, and innovation.\n",
    "\n",
    "Orphaned at the age of 9, Fourier's early life was marked by hardship. Despite these challenges, his intellect shone brightly, earning him a place at a Benedictine school where he first displayed an extraordinary aptitude for mathematics. Fourier’s natural talent caught the attention of his teachers, who nurtured his interest in the subject. Fourier's dream was to serve in the scientific corps of the army. However, this branch of service was reserved for those born to noble families, and Fourier, being an orphan of peasant descent, was thus ineligible to join. He instead enrolled in the École Royale Militaire in Auxerre and, subsequently, the École Normale in Paris.\n",
    "\n",
    "Fourier's academic pursuits were interrupted by the French Revolution, during which he aligned himself with revolutionary ideals. He served as a teacher and administrator in the restructured educational system, and his leadership skills were apparent when he became a prominent figure in the Commission of Public Instruction. Fourier’s political and administrative work also brought him into contact with some of the leading intellectuals of his time.\n",
    "\n",
    "In 1798, he joined Napoleon Bonaparte's expedition to Egypt as a scientific advisor, contributing to the ambitious and interdisciplinary project of documenting Egypt’s ancient and modern history. During this period, Fourier studied the region’s natural phenomena and historical artifacts, experiences that broadened his intellectual horizons.\n",
    "\n",
    "### The Analytic Theory of Heat & The Fourier Transform\n",
    "Fourier’s most celebrated work emerged from his deep interest in the flow of heat. Returning to France after Napoleon's defeat, Fourier served as a professor in Grenoble and began studying heat transfer. His magnum opus, \"Théorie analytique de la chaleur\" (The Analytical Theory of Heat), published in 1822, introduced revolutionary ideas.\n",
    "\n",
    "In this work, Fourier proposed that any periodic function could be expressed as a sum of simple sine and cosine waves. This insight gave birth to what is now known as the Fourier series, a mathematical tool that provides a bridge between time-domain and frequency-domain analysis. From this, the Fourier transform was later developed, enabling the decomposition of complex signals into their constituent frequencies.\n",
    "\n",
    "Fourier’s methods were initially met with skepticism, as they challenged the prevailing mathematical conventions of rigor at the time. However, his ideas proved to be profoundly correct and influential, laying the foundation for a new field of applied mathematics.\n",
    "\n",
    "The Fourier transform revolutionized science and engineering, enabling advancements that Fourier himself could scarcely have imagined. Its applications are ubiquitous in modern life:\n",
    "\n",
    "1. **Physics and Engineering**: The Fourier transform is indispensable in solving differential equations, modeling wave phenomena, and analyzing signals in electrical engineering.\n",
    "\n",
    "2. **Medicine**: Magnetic Resonance Imaging (MRI) and Computed Tomography (CT) scans rely on Fourier analysis to reconstruct images of the human body, revolutionizing medical diagnostics.\n",
    "\n",
    "3. **Communications**: Digital signal processing, a cornerstone of telecommunications, uses the Fourier transform for tasks such as data compression, noise reduction, and image processing.\n",
    "\n",
    "4. **Astronomy**: Fourier techniques enable astronomers to analyze light spectra, revealing the composition and motion of celestial objects.\n",
    "\n",
    "5. **Music and Audio**: Fourier analysis is essential for sound synthesis, music compression formats like MP3, and audio signal processing.\n",
    "\n",
    "6. **Data Science and Artificial Intelligence**: In the era of big data, Fourier transforms are used for feature extraction, pattern recognition, and optimizing algorithms in machine learning.\n",
    "\n",
    "At its core, the Fourier series and its derivations are mathematical algorithms designed to transform a signal from the *time domain* to the *frequency domain*. A signal in the time domain is analyzed over a period of time. A signal in the frequency domain is analyzed over a power spectrum of its frequencies. The Fourier series accomplishes this by taking in a signal function and decomposing it into a summation of sinusoidal functions that have varying frequencies and varying levels of power:\n",
    "\n",
    "$$ f(t) \\xrightarrow[\\text{}]{\\text{Fourier Series}} \\sum_{n=1}^{\\inf} (a_n cos(nt) + b_n sin(nt))$$ \n",
    "\n",
    "From the Fourier Series, we can derive the Continuous Fourier Transform, which can allow us to isolate individual frequency components and their corresponding power that make up a signal. This transform is extremely useful, since once we convert a signal from the time domain to the frequency domain, we can remove unwanted frequency components from our signal, and only look at the frequency components that interest us.\n",
    "\n",
    "- **Example: Analyzing EEG Data**: Say we want to use an EEG recording to analyze the brain signals related to ADHD. Typically, signals that are recorded with an EEG device are quite noisy, and aren't very reliable (at least, the **raw** EEG signal isn't). Well, by using the **Fast Fourier Transform (FFT)**, we can transform the raw EEG signal from the time domain to the frequency domain:\n",
    "\n",
    "![eeg](eeg-example.png)\n",
    "\n",
    "From there, we can remove a specific frequency or frequency ranges from our dataset by implementing bandpass, bandstop, or notch filters (we will go over these filters in the next few weeks). As can be seen in the image above, there are large spikes in the frequency domain of the EEG dat, which are likely from power line interference. Those are the frequencies we remove by applying filters:\n",
    "\n",
    "![eeg2](eeg-example2.png)\n",
    "\n",
    "The same concept can be applied in a multitude of other applications such as audio engineering, image processing, medical diagnostics, and speech recognition.\n",
    "\n",
    "You may have noticed by now that I am mentioning a number of different derivations of the Fourier Series, some of them being the Fourier Transform and the Fast Fourier Transform. Different derivations of the Fourier Series are applicable in different contexts. Some are more practical in use than others and some are more for mathematical theory. For example, the Continuous Fourier Transform takes continuous aperiodic signals over an infinite series:\n",
    "\n",
    "$$F(jw) = \\int_{-\\inf}^{\\inf} f(t)e^{-jwt}dt$$\n",
    "\n",
    "But computers can't work with continuous signals, and it's very likely you'll be needing to work with more finite samples of a signal.\n",
    "So instead, we can use the Discrete Fourier Transform, which takes in a finite signal over N Samples:\n",
    "\n",
    "$$F(jw_k) = \\sum_{n=0}^{N-1} f(x_n)e^{\\frac{-j2\\pi k n}{N}}$$\n",
    "\n",
    "The complete pipline of this derivation can be thought of as such:\n",
    "\n",
    "![fourier-derivation](fourier-derivation.png)\n",
    "\n",
    "\n",
    "### Legacy and Influence\n",
    "Joseph Fourier passed away on May 16, 1830, but his intellectual legacy endures. His ideas have transcended mathematics, influencing countless disciplines and industries. He exemplified the spirit of innovation, showing how abstract mathematical concepts can be harnessed to solve real-world problems.\n",
    "\n",
    "Fourier’s life and work inspire us to think beyond the boundaries of convention, to challenge established ideas, and to dream of solutions that might seem implausible at first glance. His contributions remind us that the pursuit of knowledge, driven by curiosity and perseverance, can transform the world in ways that are both profound and enduring. He also serves as a reminder that no matter where you start out in life, you can strive for and achieve great things. The orphaned son of a peasant tailor, who was denied entry to the scientific army corps, Fourier transformed the world forever, reaching far beyond what anyone thought was possible for a man in his position. Every time you listen to music on your headphones, analyze an EEG signal in your laboratory, or ride an aerodynamic jetplane, I hope that you will take a second to pause and remember Fourier's impact on your life, and let it inspire you to reach for greatness."
   ]
  },
  {
   "cell_type": "markdown",
   "metadata": {},
   "source": []
  }
 ],
 "metadata": {
  "language_info": {
   "name": "python"
  }
 },
 "nbformat": 4,
 "nbformat_minor": 2
}
