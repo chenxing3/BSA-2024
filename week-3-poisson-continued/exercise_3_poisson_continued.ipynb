{
 "cells": [
  {
   "cell_type": "markdown",
   "metadata": {},
   "source": [
    "Convolution, often denoted with $ \\circledast $ is a fundamental operation in signal processing, especially relevant in neurophysiological signal analysis. It involves combining two signals to form a third signal, illustrating how one signal modifies the other over time. Specifically, convolution is defined as **is defined as the integral of the product of the two functions after one is reversed and shifted.**. This is represented mathematically as follows:\n",
    "\n",
    "$\n",
    "(f * g)(t) = \\int_{-\\infty}^{\\infty} f(\\tau) g(t - \\tau) d\\tau\n",
    "$"
   ]
  },
  {
   "cell_type": "markdown",
   "metadata": {},
   "source": [
    "### Visual Example: Convolving The Outcome Distributions of two Dice"
   ]
  }
 ],
 "metadata": {
  "language_info": {
   "name": "python"
  }
 },
 "nbformat": 4,
 "nbformat_minor": 2
}
