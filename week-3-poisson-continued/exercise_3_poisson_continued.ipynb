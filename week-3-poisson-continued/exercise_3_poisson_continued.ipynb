{
 "cells": [
  {
   "cell_type": "markdown",
   "metadata": {},
   "source": [
    "Convolution, often denoted with $ \\circledast $ is a fundamental operation in signal processing, especially relevant in neurophysiological signal analysis. It involves combining two signals to form a third signal, illustrating how one signal modifies the other over time. Specifically, convolution is defined as **is defined as the integral of the product of the two functions after one is reversed and shifted.**. This is represented mathematically as follows:\n",
    "\n",
    "$\n",
    "(f * g)(t) = \\int_{-\\infty}^{\\infty} f(\\tau) g(t - \\tau) d\\tau\n",
    "$"
   ]
  },
  {
   "cell_type": "markdown",
   "metadata": {},
   "source": [
    "### Visual Example: Convolving The Outcome Distributions of two Dice"
   ]
  },
  {
   "cell_type": "markdown",
   "metadata": {},
   "source": [
    "Imagine rolling a pair of dice and figuring out the chances of seeing various different sums.\n",
    "\n",
    "Each of the two dice has six different possible outcomes, which yields a total of 36 distinct possible pairs of outcomes.\n",
    "\n",
    "And if we just look through them all, we can count up how many pairs have a given sum.\n",
    "When arranging all the pairs in a grid like the one shown below, all of\n",
    "the pairs that have a constant sum are visible along one of the different diagonals in the grid.\n",
    "\n",
    "So simply counting how many exist on each of those diagonals and dividing by the total number of possible outcomes will yield the likelihood you are to see a particular sum."
   ]
  },
  {
   "cell_type": "code",
   "execution_count": null,
   "metadata": {},
   "outputs": [],
   "source": [
    "import matplotlib.pyplot as plt\n",
    "import numpy as np\n",
    "\n",
    "dice_rolls = np.zeros((6, 6), dtype=int)\n",
    "\n",
    "for i in range(1, 7):\n",
    "    for j in range(1, 7):\n",
    "        dice_rolls[i-1, j-1] = i + j\n",
    "\n",
    "fig, ax = plt.subplots()\n",
    "ax.imshow(dice_rolls, cmap='viridis', interpolation='nearest')\n",
    "\n",
    "for i in range(dice_rolls.shape[0]):\n",
    "    for j in range(dice_rolls.shape[1]):\n",
    "        ax.text(j, i, dice_rolls[i, j], ha='center', va='center', color='w')\n",
    "\n",
    "ax.set_title('Possible Outcomes of Rolling Two Dice')\n",
    "ax.set_xticks(np.arange(6))\n",
    "ax.set_yticks(np.arange(6))\n",
    "ax.set_xticklabels(np.arange(1, 7))\n",
    "ax.set_yticklabels(np.arange(1, 7))\n",
    "ax.set_xlabel('Dice 1')\n",
    "ax.set_ylabel('Dice 2')\n",
    "plt.show()"
   ]
  },
  {
   "cell_type": "markdown",
   "metadata": {},
   "source": [
    "Let's say you picture these two different sets of possibilities each in a row, but you flip around that second row.\n",
    "That way, all of the different pairs which add up to seven line up vertically like this:"
   ]
  },
  {
   "cell_type": "code",
   "execution_count": null,
   "metadata": {},
   "outputs": [],
   "source": [
    "dice_rolls_modified = np.zeros((2, 6), dtype=int)\n",
    "dice_rolls_modified[0, :] = np.arange(1, 7)\n",
    "dice_rolls_modified[1, :] = np.arange(6, 0, -1)\n",
    "\n",
    "fig, ax = plt.subplots()\n",
    "ax.imshow(dice_rolls_modified, cmap='viridis', interpolation='nearest')\n",
    "\n",
    "for i in range(dice_rolls_modified.shape[0]):\n",
    "    for j in range(dice_rolls_modified.shape[1]):\n",
    "        ax.text(j, i, dice_rolls_modified[i, j], ha='center', va='center', color='w')\n",
    "\n",
    "ax.set_title('Dice Rolls: One Row Reversed')\n",
    "ax.set_xticks(np.arange(6))\n",
    "ax.set_yticks(np.arange(2))\n",
    "ax.set_xticklabels(['7'] * 6)\n",
    "ax.set_yticklabels(['Dice 1', 'Dice 2 (Reversed)'])\n",
    "ax.set_xlabel('Outcome')\n",
    "ax.set_ylabel('Dice')\n",
    "\n",
    "plt.show()"
   ]
  },
  {
   "cell_type": "markdown",
   "metadata": {},
   "source": [
    "And if we slide that bottom row over, the pairs which align are the two different pairs that add up to ten.\n",
    "And in general, different off set values of this lower array, which remember, I had to flip around first, reveal all the distinct pairs that have a given sum."
   ]
  },
  {
   "cell_type": "code",
   "execution_count": null,
   "metadata": {},
   "outputs": [],
   "source": [
    "dice_rolls_sum_4 = np.full((2, 9), np.nan)\n",
    "dice_rolls_sum_4[0, :6] = np.arange(1, 7)\n",
    "dice_rolls_sum_4[1, 3:9] = np.arange(6, 0, -1)\n",
    "\n",
    "\n",
    "fig, ax = plt.subplots()\n",
    "ax.imshow(dice_rolls_sum_4, cmap='viridis', interpolation='nearest')\n",
    "\n",
    "for i in range(dice_rolls_sum_4.shape[0]):\n",
    "    for j in range(dice_rolls_sum_4.shape[1]):\n",
    "        if not np.isnan(dice_rolls_sum_4[i, j]):\n",
    "            ax.text(j, i, int(dice_rolls_sum_4[i, j]), ha='center', va='center', color='w')\n",
    "\n",
    "ax.set_title('Dice Rolls for Sum of 10')\n",
    "ax.set_xticks(np.arange(9))\n",
    "ax.set_yticks(np.arange(2))\n",
    "labelsarr = [''] * 3 + ['10'] * 3 +[''] * 3\n",
    "ax.set_xticklabels(labelsarr)\n",
    "ax.set_yticklabels(['Dice 1', 'Dice 2 (Shifted)'])\n",
    "ax.set_xlabel('Outcome')\n",
    "ax.set_ylabel('Dice')\n",
    "plt.show()"
   ]
  },
  {
   "cell_type": "markdown",
   "metadata": {},
   "source": [
    "### Let's take it to a more concrete place:"
   ]
  },
  {
   "cell_type": "markdown",
   "metadata": {},
   "source": [
    "![Screenshot 2024-01-17 at 11.37.24.png](<Screenshot 2024-01-17 at 11.37.24.png>)\n",
    "\n",
    "![Screenshot 2024-01-17 at 11.38.00.png](<Screenshot 2024-01-17 at 11.38.00.png>)\n",
    "\n",
    "![Screenshot 2024-01-17 at 11.38.25.png](<Screenshot 2024-01-17 at 11.38.25.png>)\n",
    "\n",
    "![Screenshot 2024-01-17 at 11.40.08.png](<Screenshot 2024-01-17 at 11.40.08.png>)\n",
    "\n",
    "![Screenshot 2024-01-17 at 11.43.24.png](<Screenshot 2024-01-17 at 11.43.24.png>)\n",
    "\n",
    "![Screenshot 2024-01-17 at 11.44.26.png](<Screenshot 2024-01-17 at 11.44.26.png>)\n",
    "\n",
    "![Screenshot 2024-01-17 at 11.44.57.png](<Screenshot 2024-01-17 at 11.44.57.png>)\n",
    "\n",
    "![Screenshot 2024-01-17 at 11.45.13.png](<Screenshot 2024-01-17 at 11.45.13.png>)\n",
    "\n",
    "![Screenshot 2024-01-17 at 11.45.23.png](<Screenshot 2024-01-17 at 11.45.23.png>)"
   ]
  },
  {
   "cell_type": "code",
   "execution_count": null,
   "metadata": {},
   "outputs": [],
   "source": [
    "import numpy as np\n",
    "\n",
    "out = np.convolve((1,2,3), (4,5,6))\n",
    "\n",
    "print(f\"The product of convolving these two arrays is: {out}\")"
   ]
  },
  {
   "cell_type": "markdown",
   "metadata": {},
   "source": [
    "![Screenshot 2024-01-17 at 11.49.50.png](<Screenshot 2024-01-17 at 11.49.50.png>)\n",
    "\n",
    "![Screenshot 2024-01-17 at 11.50.29.png](<Screenshot 2024-01-17 at 11.50.29.png>)\n",
    "\n",
    "#### Important Point: this process doesn't scale well. The number of operations needed scales quadratically with the number of terms in the inputs.\n",
    "\n",
    "![Screenshot 2024-01-17 at 12.11.19.png](<Screenshot 2024-01-17 at 12.11.19.png>)\n",
    "\n",
    "#### How can we speed it up?"
   ]
  }
 ],
 "metadata": {
  "kernelspec": {
   "display_name": "Python 3",
   "language": "python",
   "name": "python3"
  },
  "language_info": {
   "name": "python",
   "version": "3.10.5"
  }
 },
 "nbformat": 4,
 "nbformat_minor": 2
}
