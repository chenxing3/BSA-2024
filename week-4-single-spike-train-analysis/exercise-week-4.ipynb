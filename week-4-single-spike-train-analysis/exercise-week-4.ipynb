{
 "cells": [
  {
   "cell_type": "markdown",
   "metadata": {},
   "source": [
    "# Exercise 4 - Single Spike Train Analysis\n",
    "\n",
    "## Part I: Spike Train Characteristics\n",
    "\n",
    "### 1. Last week's findings\n",
    "\n",
    "Last week we deduced the expression for $P_T(n)$ or the model we use for the probability that any sequence of $n$ spikes occurs within a trial of duration $T$.\n",
    "\n",
    "After some inspection, we came up with the following result:\n",
    "\n",
    "$$P_T(n) = \\lim_{\\Delta t \\to 0} \\binom{M}{n}(r\\Delta t)^n(1 - r\\Delta t)^{M-n}$$\n",
    "\n",
    "which can be simplified to:\n",
    "\n",
    "$$P_T(n) = \\frac{(rT)^n}{n!} e^{-rT}$$\n",
    "\n",
    "which also describes a Poisson process with a parameter of $rT$. From $P_T(n)$ we can deduce the chance for a specific spike train, i.e. a train with spikes at given times $\\{t_1, \\ldots, t_n\\}$:\n",
    "\n",
    "$$P(t_1, \\ldots, t_n) = n!P_T(n)\\left(\\frac{\\Delta t}{T}\\right)^n$$"
   ]
  },
  {
   "cell_type": "markdown",
   "metadata": {},
   "source": [
    "### 2. Interspike Interval Distribution\n",
    "\n",
    "A useful metric for spike trains is their interspike interval, i.e. the time between adjacent spikes. This statistical property is a way for us to discriminate between different neuronal behaviors quantitatively.\n",
    "\n",
    "To arrive at the distribution, we assume a spike occurred at time $t_i$ and ask the probability (in a Homogeneous Poisson Process, HPP) that another spike will occur in the short interval $t_i + \\tau \\leq t_{i+1} < t_i + \\tau + \\Delta t$.\n",
    "\n",
    "#### Calculation of Interspike Interval Probability\n",
    "\n",
    "The chance for no spikes in the first interval is:\n",
    "\n",
    "$$P_\\tau(n = 0) = \\frac{(r\\tau)^0}{0!} e^{-r\\tau} = e^{-r\\tau}$$\n",
    "\n",
    "The probability of an interspike interval with a value of $\\tau$ is:\n",
    "\n",
    "$$P(t_i + \\tau \\leq t_{i+1} < t_i + \\tau + \\Delta t) = r\\Delta t e^{-rT}$$\n",
    "\n",
    "The PDF of interspike intervals is an exponential probability density function."
   ]
  },
  {
   "cell_type": "markdown",
   "metadata": {},
   "source": [
    "#### Expected Mean Interspike Interval\n",
    "\n",
    "Computing the expected value of the PDF:\n",
    "\n",
    "$$\\begin{align}\n",
    "\\langle\\tau\\rangle &= \\int_0^\\infty \\tau p(\\tau)d\\tau \\\\\n",
    "&= \\int_0^\\infty \\tau r e^{-r\\tau} d\\tau \\\\\n",
    "&= r \\int_0^\\infty \\tau e^{-r\\tau} d\\tau \\\\\n",
    "&= r \\left[\\frac{1}{r^2}\\right] \\\\\n",
    "&= \\frac{1}{r}\n",
    "\\end{align}$$\n",
    "\n",
    "This result shows that for an average firing rate of $r$, the mean interval between spikes is $1/r$."
   ]
  },
  {
   "cell_type": "markdown",
   "metadata": {},
   "source": [
    "### 3. Poisson Spike Generator\n",
    "\n",
    "To simulate the firing of a neuron using a Poisson process:\n",
    "\n",
    "1. Create a vector of random numbers the same length as the time series\n",
    "2. Check if each random number is greater than $r(t)$ for that bin\n",
    "\n",
    "Real neurons deviate from a pure Poisson process in two main ways:\n",
    "\n",
    "1. **Refractory Period**: Can be accounted for by prohibiting spikes in a time interval following a generated spike\n",
    "\n",
    "2. **Bursting Neurons**: Two general solutions exist:\n",
    "   - Model intervals between bursts as a Poisson process\n",
    "   - Increase firing probability after a spike by some factor"
   ]
  },
  {
   "cell_type": "markdown",
   "metadata": {},
   "source": [
    "### 4. Hazard and Survival Functions\n",
    "\n",
    "#### Survival Function\n",
    "\n",
    "$$P(\\text{neuron fires until } t) = \\int_{\\hat{t}}^t r e^{-r(t' - \\hat{t})} dt'$$\n",
    "\n",
    "The survival function $S(t|\\hat{t}) = 1 - P(\\text{neuron fires until } t)$ represents the probability the neuron doesn't fire in a period.\n",
    "\n",
    "#### Hazard Function\n",
    "\n",
    "$$\\rho(t|\\hat{t}) = -\\frac{d(S(t|\\hat{t}))}{dt} \\frac{1}{S(t|\\hat{t})} = -\\frac{P(\\text{neuron fires until } t)}{S(t|\\hat{t})}$$\n",
    "\n",
    "The hazard function can be thought of as the probability of spiking at a given point, given that it spiked before."
   ]
  },
  {
   "cell_type": "markdown",
   "metadata": {},
   "source": [
    "## Part II: Cross- and Auto-correlation\n",
    "\n",
    "### 5. Cross-correlation\n",
    "\n",
    "Cross-correlation measures signal similarity:\n",
    "\n",
    "$$( f ? g)(\\tau) \\equiv \\sum_{n=-\\infty}^{\\infty} f[n]g[n + \\tau]$$\n",
    "\n",
    "#### Example Calculation\n",
    "\n",
    "For signals $f[n] = [-1, 4, 2]$ and $g[n] = [8, -3, 4]$, cross-correlation values for different $\\tau$ are:\n",
    "\n",
    "- $\\tau = \\pm 3$: 0\n",
    "- $\\tau = 2$: 16\n",
    "- $\\tau = 1$: 26\n",
    "- $\\tau = 0$: -12\n",
    "- $\\tau = -1$: 19\n",
    "- $\\tau = -2$: -4\n",
    "\n",
    "#### Unrelated Neurons\n",
    "\n",
    "For completely independent neurons, the cross-correlogram will be flat across the time axis, with its integral over any section being zero."
   ]
  },
  {
   "cell_type": "markdown",
   "metadata": {},
   "source": [
    "### 6. Auto-correlation\n",
    "\n",
    "Auto-correlation correlates a signal with its past and future self:\n",
    "\n",
    "$$R_{xx}[n] = \\sum_{n \\in \\mathbb{Z}} x[m]x[m + n]$$\n",
    "\n",
    "#### Properties\n",
    "\n",
    "- Auto-correlation is an even function: $R_{xx}(t) = R_{xx}(-t)$\n",
    "- The period of the auto-correlation function is similar to the original function\n",
    "- Auto-correlation of pure noise is a Dirac delta function\n",
    "\n",
    "#### Interpretation of Neuron Types\n",
    "\n",
    "1. **Bursty Neuron**: High correlation for small time offsets, indicating periods of frequent firing\n",
    "2. **Oscillating Neuron**: Recurring peaks at fixed intervals, suggesting consistent interspike intervals\n",
    "\n",
    "#### Normalization Techniques\n",
    "\n",
    "1. Divide by total number of spikes\n",
    "2. Subtract mean firing rate:\n",
    "\n",
    "$$\\begin{align}\n",
    "(f ? g)(\\tau)_{\\text{unbiased}} &= \\sum_{n=-\\infty}^{\\infty} (f[n] - \\langle r \\rangle)(g[n-\\tau] - \\langle r \\rangle) \\\\\n",
    "\\langle r \\rangle &= \\frac{\\langle N \\rangle}{T}\n",
    "\\end{align}$$\n",
    "\n",
    "#### Non-stationarity\n",
    "\n",
    "When correlating over long periods, we assume the neuron's internal state remains constant. Changes in firing rate can invalidate correlation results."
   ]
  }
 ],
 "metadata": {
  "kernelspec": {
   "display_name": "Python 3",
   "language": "python",
   "name": "python3"
  },
  "language_info": {
   "codemirror_mode": {
    "name": "ipython",
    "version": 3
   },
   "file_extension": ".py",
   "mimetype": "text/x-python",
   "name": "python",
   "nbconvert_exporter": "python",
   "pygments_lexer": "ipython3",
   "version": "3.8.0"
  }
 },
 "nbformat": 4,
 "nbformat_minor": 4
}
