{
 "cells": [
  {
   "cell_type": "markdown",
   "metadata": {},
   "source": [
    "# Homework Assignment #1\n",
    "\n",
    "### Due Date: Tuesday, November 26, by Midnight\n",
    "\n",
    "### Instructions\n",
    "For each question, show all your work and explain each step where possible. This assignment covers calculus, linear algebra, and probability theory. Some questions may require combining concepts from multiple sections, so ensure you review all material thoroughly. Good luck!\n",
    "\n",
    "**Note:** For all probability questions, use exact values when possible, and round your final answers to four decimal places if needed. For calculus and linear algebra questions, include clear explanations for each step of your work."
   ]
  },
  {
   "cell_type": "markdown",
   "metadata": {},
   "source": [
    "## Part I: Calculus (Derivatives and Integrals)"
   ]
  },
  {
   "cell_type": "markdown",
   "metadata": {},
   "source": [
    "### Question 1\n",
    "Let $ f(x) = x^3 - 6x^2 + 9x - 4 $. \n",
    "1. Find $ f'(x) $, the first derivative of $ f(x) $.\n",
    "2. Determine the critical points of $ f(x) $ by solving $ f'(x) = 0 $.\n",
    "3. Using the second derivative test, classify each critical point as a local maximum, minimum, or point of inflection."
   ]
  },
  {
   "cell_type": "markdown",
   "metadata": {},
   "source": [
    "-- Your Answer Here --"
   ]
  },
  {
   "cell_type": "markdown",
   "metadata": {},
   "source": [
    "Response: \n",
    "1. $ f'(x) $  equals to  $ 3x^2 -12x + 9 $.\n",
    "2. So according to the equation just above, $ 3x^2 -12x + 9 $ = 0, then $ 3 (x - 3) (x - 1) = 0 $, the cirtical points are 3 and 1.\n",
    "3. so the second derivative equation will $ f''(x) = 6 x -12 $, so when $ x = 1 $, the equation is -6, while $ x = 3 $, the equation is 6, so the $ x=1 $ is the local maximum, and $ x = 3 $ is lcoal minimum"
   ]
  },
  {
   "cell_type": "markdown",
   "metadata": {},
   "source": [
    "### Question 2\n",
    "Evaluate the following indefinite integral:\n",
    "\n",
    "$$\n",
    "\\int \\frac{2x^3 - 5x + 3}{x^2} \\, dx\n",
    "$$"
   ]
  },
  {
   "cell_type": "markdown",
   "metadata": {},
   "source": [
    "-- Your Answer Here --"
   ]
  },
  {
   "cell_type": "markdown",
   "metadata": {},
   "source": [
    "Response: \n",
    "\n",
    "Question 2\n",
    "Evaluate the following indefinite integral:\n",
    "\n",
    "$$\n",
    "\\int \\frac{2x^3 - 5x + 3}{x^2} \\, dx =  \\int \\frac{2x^3}{x^2} \\, dx +  \\int \\frac{- 5x }{x^2} \\, dx + \\int \\frac{3}{x^2} \\, dx = \\int 2x dx +  \\int \\frac{- 5}{x} \\, dx  + 3 \\frac{x^{-1}}{-1} \\ = x^2 -5 \\ln x - \\frac{3}{x} + constant\n",
    "$$"
   ]
  },
  {
   "cell_type": "markdown",
   "metadata": {},
   "source": [
    "### Question 3\n",
    "Compute the definite integral:\n",
    "\n",
    "$$\n",
    "\\int_0^3 (3x^2 - 4x + 2) \\, dx\n",
    "$$\n",
    "\n",
    "Then interpret the result as the area under the curve of $ f(x) = 3x^2 - 4x + 2 $ over the interval $ [0, 3] $."
   ]
  },
  {
   "cell_type": "markdown",
   "metadata": {},
   "source": [
    "-- Your Answer Here --"
   ]
  },
  {
   "cell_type": "markdown",
   "metadata": {},
   "source": [
    "$$\n",
    "\\int_0^3 (3x^2 - 4x + 2) \\, dx = \\int_0^3 3x^2 \\, dx - 4\\int_0^3 x \\, dx + \\int_0^3 2 \\, dx = [x^3 - 2x^2 + 2x]_0^3 = 3^3 - 2*9 + 6 - 0 + 0 - 0 = 27 - 18 + 6 = 15\n",
    "$$"
   ]
  },
  {
   "cell_type": "markdown",
   "metadata": {},
   "source": [
    "### Question 4\n",
    "Let $ g(x) = x e^x $.\n",
    "1. Find $ g'(x) $ using the product rule.\n",
    "2. Determine the integral $ \\int x e^x \\, dx $ by using integration by parts."
   ]
  },
  {
   "cell_type": "markdown",
   "metadata": {},
   "source": [
    "-- Your Answer Here --"
   ]
  },
  {
   "cell_type": "markdown",
   "metadata": {},
   "source": [
    "Response:\n",
    "\n",
    "1. $ g'(x) = 1e^x + xe^x $\n",
    "\n",
    "\n",
    "2. We need integration by parts formula here:\n",
    "\n",
    "\n",
    "$ \\int x e^x dx = xe^x - \\int e^x  dx = xe^x - e^x + constant $\n",
    "\n",
    "\n"
   ]
  },
  {
   "cell_type": "markdown",
   "metadata": {},
   "source": [
    "### Question 5\n",
    "Suppose $ h(x) = \\sin(x) e^{3x} $.\n",
    "1. Calculate $ h'(x) $.\n",
    "2. Compute $ \\int \\sin(x) e^{3x} \\, dx $ using integration by parts twice."
   ]
  },
  {
   "cell_type": "markdown",
   "metadata": {},
   "source": [
    "-- Your Answer Here --"
   ]
  },
  {
   "cell_type": "markdown",
   "metadata": {},
   "source": [
    "Response: \n",
    "\n",
    "1. $ h' (x) = \\cos(x) e^{3x} + 3 \\sin(x)e^{3x} $\n",
    "\n",
    "2. We need integration by parts formula here also well. So  \n",
    "\n",
    "$$\n",
    "\\int \\sin(x) e^{3x} \\, dx  = sin(x) (e^{3x} dx) - \\int \\frac{1}{3} e^{3x}\\cos(x)dx = \\frac{1}{3} \\sin(x) e^{3x} - \\frac{1}{3}\\int \\cos(x) e^{3x} dx = \\frac{1}{3} \\sin(x) e^{3x}  - \\frac{1}{3} (\\frac{1}{3}\\cos(x)e^{3x} + \\frac{1}{3}\\int \\sin(x)e^{3x}dx)\n",
    "$$\n",
    "\n",
    "\n",
    "\n",
    "So move the two items with same of the $\\int \\sin(x)e^{3x}dx$ together on the left:\n",
    "\n",
    "\n",
    "$$\n",
    "\\int \\sin(x)e^{3x}dx (1 + \\frac{1}{9}) = \\frac{1}{3} \\sin(x) e^{3x}  - \\frac{1}{9} \\cos(x)e^{3x}\n",
    "$$\n",
    "\n",
    "\n",
    "\n",
    "So\n",
    "\n",
    "$$\n",
    "\\int \\sin(x)e^{3x}dx = \\frac{3}{10} \\sin(x)e^{3x} - \\frac{1}{10} cos(x)e^{3x} + constant\n",
    "$$\n",
    "\n",
    "\n",
    "\n",
    "\n",
    "\n",
    "\n",
    "\n",
    "\n"
   ]
  },
  {
   "cell_type": "markdown",
   "metadata": {},
   "source": [
    "## Part II: Linear Algebra"
   ]
  },
  {
   "cell_type": "markdown",
   "metadata": {},
   "source": [
    "### Question 6\n",
    "Consider the following system of linear equations:\n",
    "$$\n",
    "2x + 3y - z = 4\n",
    "$$\n",
    "$$\n",
    "x - 2y + 4z = -3\n",
    "$$\n",
    "$$\n",
    "3x + y + 2z = 5\n",
    "$$\n",
    "1. Write the system in matrix form $ AX = B $.\n",
    "2. Find the determinant of $ A $.\n",
    "3. If the determinant is non-zero, use the inverse of $ A $ to solve for $ X $."
   ]
  },
  {
   "cell_type": "markdown",
   "metadata": {},
   "source": [
    "-- Your Answer Here --"
   ]
  },
  {
   "cell_type": "markdown",
   "metadata": {},
   "source": [
    "Response:\n",
    "\n",
    "1. \n",
    "\n",
    "$$\n",
    "A = \\begin{pmatrix} 2 & 3 & -1 \\\\ 1 & -2 & 4 \\\\ 3 & 1 & 2 \\end{pmatrix} , \n",
    "\n",
    "X = \\begin{pmatrix} x \\\\ y \\\\ z \\end{pmatrix}, \\quad and \\quad \n",
    "\n",
    "B = \\begin{pmatrix} 4 \\\\ -3 \\\\ 5 \\end{pmatrix}\n",
    "$$\n",
    "\n",
    "\n",
    "\n",
    "2. \n",
    "\n",
    "$$\n",
    "\n",
    "det(A) = 2 * det(\n",
    "    \\begin{bmatrix}\n",
    "    -2 & 4 \\\\\n",
    "    1 & 2\n",
    "    \\end{bmatrix}\n",
    ") - 3 * det(\n",
    "    \\begin{bmatrix}\n",
    "    1 & 4 \\\\\n",
    "    3 & 2\n",
    "    \\end{bmatrix}\n",
    ") - 1 * det(\n",
    "    \\begin{bmatrix}\n",
    "    1 & -2 \\\\\n",
    "    3 & 1\n",
    "    \\end{bmatrix}\n",
    ") = 2*(-8) - 3*(-10) - 1*(7) = -16 + 30 - 7 = 7\n",
    "\n",
    "$$\n",
    "\n",
    "\n",
    "\n",
    "3. \n",
    "As above, the determinant is 7 (not 0), according to the equation: \n",
    "$ X = A^{-1} * B $\n",
    "\n",
    "\n",
    "\n",
    "\n",
    "\n",
    "\n",
    "\n"
   ]
  },
  {
   "cell_type": "code",
   "execution_count": 1,
   "metadata": {},
   "outputs": [
    {
     "name": "stdout",
     "output_type": "stream",
     "text": [
      "X:  [ 5.57142857 -3.71428571 -4.        ]\n"
     ]
    }
   ],
   "source": [
    "import numpy as np\n",
    "\n",
    "A = np.array([[2, 3, -1],\n",
    "              [1, -2, 4],\n",
    "              [3, 1, 2]])\n",
    "A_inverse = np.linalg.inv(A) # Inverse of A\n",
    "\n",
    "B = np.array([4, -3, 5])\n",
    "\n",
    "\n",
    "X = np.dot(A_inverse, B)\n",
    "print('X: ', X)"
   ]
  },
  {
   "cell_type": "markdown",
   "metadata": {},
   "source": [
    "### Question 7\n",
    "Given the matrices:\n",
    "\n",
    "$$\n",
    "A = \\begin{pmatrix} 2 & -1 \\\\ 0 & 3 \\end{pmatrix} \\quad \\text{and} \\quad B = \\begin{pmatrix} 4 & 1 \\\\ -2 & 5 \\end{pmatrix}\n",
    "$$\n",
    "\n",
    "1. Compute $ A + B $ and $ A - B $.\n",
    "2. Find the product $ AB $ and $ BA $.\n",
    "3. Is $ AB = BA $? Justify your answer."
   ]
  },
  {
   "cell_type": "markdown",
   "metadata": {},
   "source": [
    "-- Your Answer Here --"
   ]
  },
  {
   "cell_type": "code",
   "execution_count": 3,
   "metadata": {},
   "outputs": [
    {
     "name": "stdout",
     "output_type": "stream",
     "text": [
      "A + B:  [[ 6  0]\n",
      " [-2  8]]\n",
      "A - B:  [[-2 -2]\n",
      " [ 2 -2]]\n",
      "A * B:  [[10 -3]\n",
      " [-6 15]]\n",
      "B * A:  [[ 8 -1]\n",
      " [-4 17]]\n"
     ]
    }
   ],
   "source": [
    "import numpy as np\n",
    "\n",
    "A = np.array([[2,  -1],[0, 3]])\n",
    "B = np.array([[4,  1],[-2, 5]])\n",
    "\n",
    "# 1. A+ B and A-B\n",
    "print('A + B: ', np.add(A, B))\n",
    "print('A - B: ', np.subtract(A, B))\n",
    "\n",
    "\n",
    "# 2. the product of A and B\n",
    "print('A * B: ', np.dot(A, B))\n",
    "print('B * A: ', np.dot(B, A))\n"
   ]
  },
  {
   "cell_type": "markdown",
   "metadata": {},
   "source": [
    "3. No, they are not the same"
   ]
  },
  {
   "cell_type": "markdown",
   "metadata": {},
   "source": [
    "### Question 8\n",
    "Let $ C $ be a $ 3 \\times 3 $ matrix:\n",
    "\n",
    "$$\n",
    "C = \\begin{pmatrix} 1 & 2 & 3 \\\\ 0 & -1 & 4 \\\\ 2 & 1 & 0 \\end{pmatrix}\n",
    "$$\n",
    "\n",
    "1. Find the transpose of $ C $, denoted $ C^T $.\n",
    "2. Calculate $ C + C^T $.\n",
    "3. Determine if $ C + C^T $ is symmetric."
   ]
  },
  {
   "cell_type": "markdown",
   "metadata": {},
   "source": [
    "-- Your Answer Here --"
   ]
  },
  {
   "cell_type": "code",
   "execution_count": 6,
   "metadata": {},
   "outputs": [
    {
     "name": "stdout",
     "output_type": "stream",
     "text": [
      "1. Transpose of C:  [[ 1  0  2]\n",
      " [ 2 -1  1]\n",
      " [ 3  4  0]]\n",
      "2. C + Transpose of C:  [[ 2  2  5]\n",
      " [ 2 -2  5]\n",
      " [ 5  5  0]]\n",
      "3. C is a symmetric matrix\n"
     ]
    }
   ],
   "source": [
    "C = np.array([[1, 2, 3],\n",
    "              [0, -1, 4],\n",
    "              [2, 1, 0]])\n",
    "\n",
    "\n",
    "# 1. transpose of C\n",
    "print('1. Transpose of C: ', np.transpose(C))\n",
    "\n",
    "# 2. C + transpose of C\n",
    "print('2. C + Transpose of C: ', np.add(C, np.transpose(C)))\n",
    "\n",
    "\n",
    "# 3 symmetric matrix\n",
    "c_and_c_transpose = np.add(C, np.transpose(C))\n",
    "c_transpose_and_c = np.add(np.transpose(C), C)\n",
    "\n",
    "if np.array_equal(c_and_c_transpose, c_transpose_and_c):\n",
    "    print('3. C is a symmetric matrix')\n",
    "else:\n",
    "    print('3. C is not a symmetric matrix')"
   ]
  },
  {
   "cell_type": "markdown",
   "metadata": {},
   "source": [
    "### Question 9\n",
    "A matrix $ D $ is defined as:\n",
    "\n",
    "$$\n",
    "D = \\begin{pmatrix} a & 0 & 0 \\\\ 0 & b & 0 \\\\ 0 & 0 & c \\end{pmatrix}\n",
    "$$\n",
    "\n",
    "1. Describe the type of matrix $ D $ and explain its properties.\n",
    "2. If $ D $ is a diagonal matrix, find its determinant.\n",
    "3. Explain the significance of a diagonal matrix in terms of linear transformations."
   ]
  },
  {
   "cell_type": "markdown",
   "metadata": {},
   "source": [
    "-- Your Answer Here --"
   ]
  },
  {
   "cell_type": "markdown",
   "metadata": {},
   "source": [
    "Response:\n",
    "1. The matrix is diagonal matrix\n",
    "2. the determinant equals to a*b*c\n",
    "3. It depends on the a, b and c in different axes, like if a = 2, it scales this first axis by 2, etc"
   ]
  },
  {
   "cell_type": "markdown",
   "metadata": {},
   "source": [
    "### Question 10\n",
    "Let $ E $ be a $ 2 \\times 2 $ matrix defined as:\n",
    "\n",
    "$$\n",
    "E = \\begin{pmatrix} 3 & 4 \\\\ 2 & 1 \\end{pmatrix}\n",
    "$$\n",
    "\n",
    "1. Find the eigenvalues of $ E $.\n",
    "2. For each eigenvalue, find the corresponding eigenvector.\n",
    "3. Explain how the eigenvalues and eigenvectors can be used to understand transformations represented by $ E $."
   ]
  },
  {
   "cell_type": "markdown",
   "metadata": {},
   "source": [
    "-- Your Answer Here --"
   ]
  },
  {
   "cell_type": "code",
   "execution_count": 7,
   "metadata": {},
   "outputs": [
    {
     "name": "stdout",
     "output_type": "stream",
     "text": [
      "1. Eigen values:  [ 5. -1.]\n",
      "2. Eigen vectors:  [[ 0.89442719 -0.70710678]\n",
      " [ 0.4472136   0.70710678]]\n"
     ]
    }
   ],
   "source": [
    "# 1 eign  value for E\n",
    "E = np.array([[3, 4],\n",
    "              [2, 1]])\n",
    "\n",
    "eigen_values, eigen_vectors = np.linalg.eig(E)\n",
    "print('1. Eigen values: ', eigen_values)\n",
    "\n",
    "# find the corresponding eigen vectors\n",
    "print('2. Eigen vectors: ', eigen_vectors)"
   ]
  },
  {
   "cell_type": "markdown",
   "metadata": {},
   "source": [
    "3. So according to the result above, it have two eigen values of 5 and -1, so it scales the axes by 5 and -1 separately"
   ]
  },
  {
   "cell_type": "markdown",
   "metadata": {},
   "source": [
    "## Part III: Probability Theory"
   ]
  },
  {
   "cell_type": "markdown",
   "metadata": {},
   "source": [
    "### Question 11\n",
    "In a population, 30% of individuals have a specific genetic marker. A test for this marker has a 95% accuracy rate for individuals with the marker and an 80% accuracy rate for those without the marker.\n",
    "1. Define the events and write out the given probabilities.\n",
    "2. Using Bayes' theorem, calculate the probability that an individual actually has the marker given a positive test result."
   ]
  },
  {
   "cell_type": "markdown",
   "metadata": {},
   "source": [
    "-- Your Answer Here --"
   ]
  },
  {
   "cell_type": "markdown",
   "metadata": {},
   "source": [
    "Response:\n",
    "$ p(genetic) = 0.3 $\n",
    "\n",
    "$ p(x) =0.95 $\n",
    "\n",
    "1. There are two possibles: true positive, and ture negative\n",
    "true positive: $ p(x|genetic) = 0.95 $\n",
    "ture negative: $ p(x^{'}|genetic^{'}) = 0.8 $\n",
    "\n",
    "\n",
    "2. According to the Bayes's equation:\n",
    "$ p(genetic|x) = \\frac{p(x|genetic) * p(genetic)} {p(x)} $\n",
    "\n",
    "\n",
    "$ p(x) = p(x|genetic)*p(genetic) + (1- p(x^{'}|genetic^{'}))*(1-p(genetic)) = 0.95*0.3 + 0.2*0.7 =0.425 $\n",
    "p(genetic|x) = 0.95*0.3/0.425\n",
    "\n",
    "\n"
   ]
  },
  {
   "cell_type": "code",
   "execution_count": 8,
   "metadata": {},
   "outputs": [
    {
     "name": "stdout",
     "output_type": "stream",
     "text": [
      "2. result:  0.6705882352941176\n"
     ]
    }
   ],
   "source": [
    "print(\"2. result: \", 0.95*0.3/0.425)"
   ]
  },
  {
   "cell_type": "markdown",
   "metadata": {},
   "source": [
    "### Question 12\n",
    "A die is rolled 12 times. Let $ X $ be the random variable representing the number of times a \"5\" appears.\n",
    "1. What type of probability distribution does $ X $ follow?\n",
    "2. Calculate the probability that \"5\" appears exactly 4 times.\n",
    "3. Determine the expected number of times \"5\" will appear in 12 rolls."
   ]
  },
  {
   "cell_type": "markdown",
   "metadata": {},
   "source": [
    "-- Your Answer Here --"
   ]
  },
  {
   "cell_type": "code",
   "execution_count": 10,
   "metadata": {},
   "outputs": [
    {
     "name": "stdout",
     "output_type": "stream",
     "text": [
      "2. Probability of \"5\" appears 4 times:  0.08882807058941516\n",
      "3. Expected number of \"5\" appears from 12 rolls:  2.0\n"
     ]
    }
   ],
   "source": [
    "# 1. it follows bionomial distribution\n",
    "\n",
    "# Probability of \"5\" appears  4 times\n",
    "n = 12\n",
    "p = 1/6\n",
    "n4 = 4\n",
    "\n",
    "# calculate (n, n4) * p^n4 * (1-p)^(n-n4)\n",
    "from math import factorial\n",
    "from math import pow\n",
    "p4 = factorial(n)/(factorial(n4)*factorial(n-n4)) * pow(p, n4) * pow(1-p, n-n4)\n",
    "print('2. Probability of \"5\" appears 4 times: ', p4)\n",
    "\n",
    "\n",
    "\n",
    "# the expected number of \"5\" appears from 12 rolls\n",
    "n = 12\n",
    "p = 1/6\n",
    "expected_value = n * p\n",
    "print('3. Expected number of \"5\" appears from 12 rolls: ', expected_value)"
   ]
  },
  {
   "cell_type": "markdown",
   "metadata": {},
   "source": [
    "### Question 13\n",
    "A bookstore averages 3 customer visits per hour. Assume the number of customer visits per hour follows a Poisson distribution.\n",
    "1. Calculate the probability that exactly 5 customers visit in a given hour.\n",
    "2. Find the probability that at least 1 customer visits in a given hour."
   ]
  },
  {
   "cell_type": "markdown",
   "metadata": {},
   "source": [
    "-- Your Answer Here --"
   ]
  },
  {
   "cell_type": "markdown",
   "metadata": {},
   "source": [
    "Response:\n",
    "So the $ \\lambda = 3 $ according the question\n"
   ]
  },
  {
   "cell_type": "code",
   "execution_count": 12,
   "metadata": {},
   "outputs": [
    {
     "name": "stdout",
     "output_type": "stream",
     "text": [
      "1. Probability of 5 customers arrive in 1 hour:  0.10081881344492448\n",
      "2. Probability that at least 1 customer visits in a given hour:  0.950212931632136\n"
     ]
    }
   ],
   "source": [
    "\n",
    "Lambda = 3\n",
    "k = 5\n",
    "from math import exp\n",
    "from math import factorial\n",
    "p = exp(-Lambda) * pow(Lambda, k) / factorial(k)\n",
    "print('1. Probability of 5 customers arrive in 1 hour: ', p)\n",
    "\n",
    "\n",
    "# Find the probability that at least 1 customer visits in a given hour.\n",
    "p = 1 - exp(-Lambda)\n",
    "print('2. Probability that at least 1 customer visits in a given hour: ', p)\n",
    "\n",
    "\n",
    "\n"
   ]
  },
  {
   "cell_type": "markdown",
   "metadata": {},
   "source": [
    "### Question 14\n",
    "Assume a continuous random variable $ Y $ follows a normal distribution with mean $ \\mu = 50 $ and standard deviation $ \\sigma = 5 $.\n",
    "1. Calculate the probability that $ Y $ takes a value between 45 and 55.\n",
    "2. Find the value $ y $ such that $ P(Y \\leq y) = 0.85 $."
   ]
  },
  {
   "cell_type": "markdown",
   "metadata": {},
   "source": [
    "-- Your Answer Here --"
   ]
  },
  {
   "cell_type": "code",
   "execution_count": 14,
   "metadata": {},
   "outputs": [
    {
     "name": "stdout",
     "output_type": "stream",
     "text": [
      "1. Probability that Y takes a value between 45 and 55:  0.6826894921370859\n",
      "2. Value y such that P(Y <= y) = 0.85:  55.18216694746895\n"
     ]
    }
   ],
   "source": [
    "\n",
    "# 1. the probability that Y takes a value between 45 and 55.\n",
    "from scipy.stats import norm\n",
    "mu = 50\n",
    "sigma = 5\n",
    "p = norm.cdf(55, mu, sigma) - norm.cdf(45, mu, sigma)\n",
    "print('1. Probability that Y takes a value between 45 and 55: ', p)\n",
    "\n",
    "\n",
    "# Find the value y such that P(Y <= y) = 0.85\n",
    "y = norm.ppf(0.85, mu, sigma)\n",
    "print('2. Value y such that P(Y <= y) = 0.85: ', y)"
   ]
  },
  {
   "cell_type": "markdown",
   "metadata": {},
   "source": [
    "### Question 15\n",
    "A company's product quality control process involves two independent tests. Each test has a 98% probability of detecting a defect if it is present.\n",
    "1. What is the probability that both tests detect a defect when it is present?\n",
    "2. What is the probability that at least one test detects a defect when it is present?\n",
    "3. If the company requires both tests to detect a defect before rejecting a product, calculate the probability that a defective product will be rejected."
   ]
  },
  {
   "cell_type": "markdown",
   "metadata": {},
   "source": [
    "-- Your Answer Here --"
   ]
  },
  {
   "cell_type": "code",
   "execution_count": 18,
   "metadata": {},
   "outputs": [
    {
     "name": "stdout",
     "output_type": "stream",
     "text": [
      "1. Probability both:  0.9603999999999999\n",
      "2. Probability at least one:  0.9996\n",
      "3. Probability of reject:  0.9603999999999999\n"
     ]
    }
   ],
   "source": [
    "\n",
    "# 1.\n",
    "p =0.98\n",
    "p_both = p*p \n",
    "print('1. Probability both: ', p_both)\n",
    "\n",
    "\n",
    "# 2.\n",
    "p_at_least_one = 1 - (1-p)*(1-p)\n",
    "print('2. Probability at least one: ', p_at_least_one)\n",
    "\n",
    "\n",
    "\n",
    "# 3. \n",
    "p_reject = p_both\n",
    "print('3. Probability of reject: ', p_reject)\n",
    "\n"
   ]
  }
 ],
 "metadata": {
  "kernelspec": {
   "display_name": "py11",
   "language": "python",
   "name": "python3"
  },
  "language_info": {
   "codemirror_mode": {
    "name": "ipython",
    "version": 3
   },
   "file_extension": ".py",
   "mimetype": "text/x-python",
   "name": "python",
   "nbconvert_exporter": "python",
   "pygments_lexer": "ipython3",
   "version": "3.11.5"
  }
 },
 "nbformat": 4,
 "nbformat_minor": 2
}
